{
 "cells": [
  {
   "cell_type": "markdown",
   "id": "c7ec0d45",
   "metadata": {},
   "source": [
    "# Assignment 1 "
   ]
  },
  {
   "cell_type": "markdown",
   "id": "d509a1c9",
   "metadata": {},
   "source": [
    "# 13/12/2022"
   ]
  },
  {
   "cell_type": "markdown",
   "id": "98738bd4",
   "metadata": {},
   "source": [
    "# 1. WAP to accept two numbers from the user and display their sum"
   ]
  },
  {
   "cell_type": "code",
   "execution_count": 1,
   "id": "d8589bf4",
   "metadata": {},
   "outputs": [
    {
     "name": "stdout",
     "output_type": "stream",
     "text": [
      "enter the number firts:5\n",
      "enter the number second:6\n"
     ]
    },
    {
     "data": {
      "text/plain": [
       "11"
      ]
     },
     "execution_count": 1,
     "metadata": {},
     "output_type": "execute_result"
    }
   ],
   "source": [
    "n1= int(input(\"enter the number firts:\"))\n",
    "n2=int(input(\"enter the number second:\"))\n",
    "a= n1+n2\n",
    "a\n"
   ]
  },
  {
   "cell_type": "markdown",
   "id": "31296951",
   "metadata": {},
   "source": [
    "# 2. WAP to accept radius of a Circle from the user and calculate area and circumference"
   ]
  },
  {
   "cell_type": "code",
   "execution_count": 2,
   "id": "6ec464e2",
   "metadata": {},
   "outputs": [
    {
     "name": "stdout",
     "output_type": "stream",
     "text": [
      "enter the radius:4\n"
     ]
    },
    {
     "data": {
      "text/plain": [
       "(50.24, 25.12)"
      ]
     },
     "execution_count": 2,
     "metadata": {},
     "output_type": "execute_result"
    }
   ],
   "source": [
    "r=float(input(\"enter the radius:\"))\n",
    "area=3.14*r*r\n",
    "circumference=2*3.14*r\n",
    "area,circumference"
   ]
  },
  {
   "cell_type": "markdown",
   "id": "7572cae0",
   "metadata": {},
   "source": [
    "# 3. WAP to accept roll number , grade and percentage as input from the user and display it back"
   ]
  },
  {
   "cell_type": "code",
   "execution_count": 3,
   "id": "d8f5a859",
   "metadata": {},
   "outputs": [
    {
     "name": "stdout",
     "output_type": "stream",
     "text": [
      "enter the roll number:200\n",
      "enter the grade:A\n",
      "enter the percentage:80\n"
     ]
    },
    {
     "data": {
      "text/plain": [
       "(200, 'A', '80')"
      ]
     },
     "execution_count": 3,
     "metadata": {},
     "output_type": "execute_result"
    }
   ],
   "source": [
    "roll_number=int(input(\"enter the roll number:\"))\n",
    "grade=input(\"enter the grade:\")\n",
    "pctg=input(\"enter the percentage:\")\n",
    "roll_number,grade,pctg"
   ]
  },
  {
   "cell_type": "markdown",
   "id": "c582c02d",
   "metadata": {},
   "source": [
    "# 4. Write a program that asks the user to enter his/her name and age. Print out a message ,displaying the user’s name along with the year in which they will turn 100 years old."
   ]
  },
  {
   "cell_type": "code",
   "execution_count": 4,
   "id": "f8e3579c",
   "metadata": {},
   "outputs": [
    {
     "name": "stdout",
     "output_type": "stream",
     "text": [
      "enter his/her name:Devendra\n",
      "enter the age:23\n",
      "enter the current year:2022\n",
      "Devendra 2099\n"
     ]
    }
   ],
   "source": [
    "name=input(\"enter his/her name:\")\n",
    "age=int(input(\"enter the age:\"))\n",
    "current_year=int(input(\"enter the current year:\"))\n",
    "a=100-age\n",
    "b=a+current_year\n",
    "print(name,b)\n"
   ]
  },
  {
   "cell_type": "markdown",
   "id": "8a2f1072",
   "metadata": {},
   "source": [
    "# 5. Write a program that asks the user to input 2 integers and adds them . Accept both the numbers in a single line only"
   ]
  },
  {
   "cell_type": "code",
   "execution_count": 1,
   "id": "3c2ca43f",
   "metadata": {},
   "outputs": [
    {
     "name": "stdout",
     "output_type": "stream",
     "text": [
      "2 4\n",
      "add 6\n"
     ]
    }
   ],
   "source": [
    "x,y = map(int,input().split())\n",
    "print(\"add\",x+y)"
   ]
  },
  {
   "cell_type": "markdown",
   "id": "ecce5cf8",
   "metadata": {},
   "source": [
    "# 6. Write a Python program which accepts the user's first and last name and print them in reverse order with a space between them."
   ]
  },
  {
   "cell_type": "code",
   "execution_count": 5,
   "id": "3d0e0072",
   "metadata": {},
   "outputs": [
    {
     "name": "stdout",
     "output_type": "stream",
     "text": [
      "enter the first name:Devendra\n",
      "enter the last name:Singh\n",
      "hgniS ardneveD\n"
     ]
    }
   ],
   "source": [
    "first=input(\"enter the first name:\")\n",
    "last=input(\"enter the last name:\")\n",
    "a=first+\" \"+last\n",
    "print(a[::-1])"
   ]
  },
  {
   "cell_type": "markdown",
   "id": "0aa5f0d1",
   "metadata": {},
   "source": [
    "# 15/12/2022"
   ]
  },
  {
   "cell_type": "markdown",
   "id": "a322e2a3",
   "metadata": {},
   "source": [
    "# 1. WAP to accept an integer from the user and check whether it is an even or odd"
   ]
  },
  {
   "cell_type": "code",
   "execution_count": 6,
   "id": "eb117862",
   "metadata": {},
   "outputs": [],
   "source": [
    "\n",
    "def even_odd():\n",
    "    i=int(input(\"enter the number\"))\n",
    "    if i%2==0:\n",
    "        print(\"number is even\")\n",
    "    else:\n",
    "        print(\"number is odd\")"
   ]
  },
  {
   "cell_type": "code",
   "execution_count": 7,
   "id": "d0536ab1",
   "metadata": {},
   "outputs": [
    {
     "name": "stdout",
     "output_type": "stream",
     "text": [
      "enter the number4\n",
      "number is even\n"
     ]
    }
   ],
   "source": [
    "even_odd()"
   ]
  },
  {
   "cell_type": "markdown",
   "id": "167080f6",
   "metadata": {},
   "source": [
    "# 2. WAP to accept a character from the user and check whether it is a capital letter or small letter. Assume user will input only alphabets"
   ]
  },
  {
   "cell_type": "code",
   "execution_count": 8,
   "id": "62157fdc",
   "metadata": {},
   "outputs": [],
   "source": [
    "def small_capital():\n",
    "    i=input(\"enter the character\")\n",
    "    if  \"A\"<=i<=\"Z\":\n",
    "        print(\"character is capital\")\n",
    "    else:\n",
    "        print(\"the character is small\")"
   ]
  },
  {
   "cell_type": "code",
   "execution_count": 9,
   "id": "11213abc",
   "metadata": {},
   "outputs": [
    {
     "name": "stdout",
     "output_type": "stream",
     "text": [
      "enter the characterA\n",
      "character is capital\n"
     ]
    }
   ],
   "source": [
    "small_capital()"
   ]
  },
  {
   "cell_type": "markdown",
   "id": "7cafdc03",
   "metadata": {},
   "source": [
    "# 3. WAP to accept a character from the user and check whether it is a capital letter or small letter or a digit or some special symbol"
   ]
  },
  {
   "cell_type": "code",
   "execution_count": 6,
   "id": "5183a095",
   "metadata": {},
   "outputs": [
    {
     "name": "stdout",
     "output_type": "stream",
     "text": [
      "enter the character%\n",
      "the character is special symbol\n"
     ]
    }
   ],
   "source": [
    "ch=input(\"enter the character\")\n",
    "if('a'<=ch<='z'):\n",
    "    print(\"the character is small letter\")\n",
    "elif ('A'<=ch<='Z'):\n",
    "    print(\"the character is capital letter\")\n",
    "elif ('0'<=ch<='9'):\n",
    "    print(\"the character is digit\")\n",
    "else:\n",
    "    print(\"the character is special symbol\")\n",
    "    "
   ]
  },
  {
   "cell_type": "markdown",
   "id": "ea21cc9a",
   "metadata": {},
   "source": [
    "# 4. WAP to accept 3 integers from the user and without using any logical operator and cascading of relational operators , find out the greatest number amongst them"
   ]
  },
  {
   "cell_type": "code",
   "execution_count": 10,
   "id": "8a190fc3",
   "metadata": {},
   "outputs": [],
   "source": [
    "def greatest_num():\n",
    "    x=int(input(\"enter first num\"))\n",
    "    y=int(input(\"enter second num\"))\n",
    "    z=int(input(\"enter third num\"))\n",
    "    if x>y:\n",
    "        if x>z:\n",
    "            print(\"x,first number is gratest\")\n",
    "    if y>x:\n",
    "          if y>z:\n",
    "                print(\"y,second number is greatest\")\n",
    "    if z>x:\n",
    "        if z>y:\n",
    "            print(\"z,third number is greatest\")"
   ]
  },
  {
   "cell_type": "code",
   "execution_count": 11,
   "id": "21cb8029",
   "metadata": {},
   "outputs": [
    {
     "name": "stdout",
     "output_type": "stream",
     "text": [
      "enter first num2\n",
      "enter second num3\n",
      "enter third num4\n",
      "z,third number is greatest\n"
     ]
    }
   ],
   "source": [
    "greatest_num()"
   ]
  },
  {
   "cell_type": "markdown",
   "id": "86ac7048",
   "metadata": {},
   "source": [
    "# 5. WAP to accept a year from the user and check whether it is a leap year or not.  An year is a leap year if:   It is exactly divisible by 4 and at the same time  not  divisible by 100  OR  It is divisible by 400  For example:  2017 is not a leap year   2012 is a leap year   1900 is a not leap year   2000 is a leap year"
   ]
  },
  {
   "cell_type": "code",
   "execution_count": 12,
   "id": "f90c5c95",
   "metadata": {},
   "outputs": [
    {
     "name": "stdout",
     "output_type": "stream",
     "text": [
      "enter the year2000\n"
     ]
    }
   ],
   "source": [
    "year=int(input(\"enter the year\"))\n",
    "def leap_year(year):\n",
    "    if year%4==0:\n",
    "        if year%100==0:\n",
    "            if year%400==0:\n",
    "                print(\"{0} is leap year\".format(year))\n",
    "            else:\n",
    "                print(\"{0} is not leap year\".format(year))\n",
    "        else:\n",
    "            print(\"{0} is not leap year\".format(year))\n",
    "    else:        \n",
    "        print(\"{0} is not leap year\".format(year)) "
   ]
  },
  {
   "cell_type": "code",
   "execution_count": 13,
   "id": "8af29dbb",
   "metadata": {},
   "outputs": [
    {
     "name": "stdout",
     "output_type": "stream",
     "text": [
      "2000 is leap year\n"
     ]
    }
   ],
   "source": [
    "leap_year(2000)"
   ]
  },
  {
   "cell_type": "code",
   "execution_count": 14,
   "id": "639f2e22",
   "metadata": {},
   "outputs": [
    {
     "name": "stdout",
     "output_type": "stream",
     "text": [
      "2012 is not leap year\n"
     ]
    }
   ],
   "source": [
    "leap_year(2012)"
   ]
  },
  {
   "cell_type": "code",
   "execution_count": 15,
   "id": "ac1b44b7",
   "metadata": {},
   "outputs": [
    {
     "name": "stdout",
     "output_type": "stream",
     "text": [
      "2017 is not leap year\n"
     ]
    }
   ],
   "source": [
    "leap_year(2017)"
   ]
  },
  {
   "cell_type": "code",
   "execution_count": 16,
   "id": "fe1a3e49",
   "metadata": {},
   "outputs": [
    {
     "name": "stdout",
     "output_type": "stream",
     "text": [
      "1900 is not leap year\n"
     ]
    }
   ],
   "source": [
    "leap_year(1900)"
   ]
  },
  {
   "cell_type": "markdown",
   "id": "fcf4b997",
   "metadata": {},
   "source": [
    "# 6. Write a program to accept a string from the user and display it vertically but don’t display the vowels in it."
   ]
  },
  {
   "cell_type": "code",
   "execution_count": 17,
   "id": "d7704618",
   "metadata": {},
   "outputs": [
    {
     "name": "stdout",
     "output_type": "stream",
     "text": [
      "enter the stringDevendraSingh\n",
      "D\n",
      "v\n",
      "n\n",
      "d\n",
      "r\n",
      "S\n",
      "n\n",
      "g\n",
      "h\n"
     ]
    }
   ],
   "source": [
    "a=(input(\"enter the string\"))\n",
    "i=0\n",
    "while i<len(a):\n",
    "    if a[i] in [\"a\",\"e\",\"i\",\"o\",\"u\"]:\n",
    "        pass\n",
    "    else:\n",
    "        print(a[i])\n",
    "    i=i+1"
   ]
  },
  {
   "cell_type": "markdown",
   "id": "80f359f6",
   "metadata": {},
   "source": [
    "# 7. Write a program to accept an integer from the user and display the sum of all the numbers from 1 to that number."
   ]
  },
  {
   "cell_type": "code",
   "execution_count": 18,
   "id": "c531f20d",
   "metadata": {},
   "outputs": [
    {
     "name": "stdout",
     "output_type": "stream",
     "text": [
      "enter the number5\n",
      "15\n"
     ]
    }
   ],
   "source": [
    "a=int(input(\"enter the number\"))\n",
    "sum=0\n",
    "for i in range(1,a+1):\n",
    "    sum=sum+i\n",
    "print(sum)    \n"
   ]
  },
  {
   "cell_type": "markdown",
   "id": "9ef7afe9",
   "metadata": {},
   "source": [
    "# 8. Write a program to accept an integer from the user and calculate its factorial"
   ]
  },
  {
   "cell_type": "code",
   "execution_count": 19,
   "id": "408eb8bd",
   "metadata": {},
   "outputs": [
    {
     "name": "stdout",
     "output_type": "stream",
     "text": [
      "enter the number5\n",
      "120\n"
     ]
    }
   ],
   "source": [
    "a=int(input(\"enter the number\"))\n",
    "fact=1\n",
    "for i in range(1,a+1):\n",
    "    fact=fact*i\n",
    "print(fact)"
   ]
  },
  {
   "cell_type": "markdown",
   "id": "97820e2a",
   "metadata": {},
   "source": [
    "# 9. Write a program to print the following pattern"
   ]
  },
  {
   "cell_type": "code",
   "execution_count": 20,
   "id": "8989267c",
   "metadata": {},
   "outputs": [
    {
     "name": "stdout",
     "output_type": "stream",
     "text": [
      "* * * \n",
      "* * * \n",
      "* * * \n",
      "* * * \n"
     ]
    }
   ],
   "source": [
    "n=3\n",
    "for i in range(4):\n",
    "    for j in range (n):\n",
    "        print(\"*\",end=' ')\n",
    "    print()    \n",
    "        \n",
    "    "
   ]
  },
  {
   "cell_type": "markdown",
   "id": "2b311d11",
   "metadata": {},
   "source": [
    "# 10. Write a program to print the following pattern"
   ]
  },
  {
   "cell_type": "code",
   "execution_count": 21,
   "id": "2a7f19fd",
   "metadata": {},
   "outputs": [
    {
     "name": "stdout",
     "output_type": "stream",
     "text": [
      "\n",
      "* \n",
      "* * \n",
      "* * * \n",
      "* * * * \n"
     ]
    }
   ],
   "source": [
    "n=5\n",
    "for i in range(n):\n",
    "    for j in range(i):\n",
    "        print(\"*\", end=' ')\n",
    "    print()    "
   ]
  },
  {
   "cell_type": "markdown",
   "id": "b48665af",
   "metadata": {},
   "source": [
    "# 11. Write a program to print the following pattern"
   ]
  },
  {
   "cell_type": "code",
   "execution_count": 22,
   "id": "138facff",
   "metadata": {},
   "outputs": [
    {
     "name": "stdout",
     "output_type": "stream",
     "text": [
      "* * * * \n",
      "* * * \n",
      "* * \n",
      "* \n"
     ]
    }
   ],
   "source": [
    "n=4\n",
    "for i in range(n):\n",
    "    for j in range(n-i):\n",
    "        print(\"*\", end=' ')\n",
    "    print()"
   ]
  },
  {
   "cell_type": "markdown",
   "id": "7b3b1605",
   "metadata": {},
   "source": [
    "# 12. Write a program to accept an integer from the user and display all the numbers from 1 to that number. Repeat the process until the user enters 0."
   ]
  },
  {
   "cell_type": "markdown",
   "id": "fcdac353",
   "metadata": {},
   "source": [
    "# 13. Write a program to continuously accept integers from the user until the user types 0 and as soon as 0 is entered     display sum of all the nos entered before 0        Note:Modify the previous code so that if the user inputs a   negative integer , your program should ignore it ."
   ]
  },
  {
   "cell_type": "code",
   "execution_count": null,
   "id": "de9ead07",
   "metadata": {},
   "outputs": [],
   "source": []
  }
 ],
 "metadata": {
  "kernelspec": {
   "display_name": "Python 3 (ipykernel)",
   "language": "python",
   "name": "python3"
  },
  "language_info": {
   "codemirror_mode": {
    "name": "ipython",
    "version": 3
   },
   "file_extension": ".py",
   "mimetype": "text/x-python",
   "name": "python",
   "nbconvert_exporter": "python",
   "pygments_lexer": "ipython3",
   "version": "3.9.12"
  }
 },
 "nbformat": 4,
 "nbformat_minor": 5
}
